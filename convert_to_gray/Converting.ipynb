{
 "cells": [
  {
   "cell_type": "markdown",
   "id": "91b92e89",
   "metadata": {},
   "source": [
    "# importing Modules "
   ]
  },
  {
   "cell_type": "code",
   "execution_count": 1,
   "id": "eee7ba4c",
   "metadata": {},
   "outputs": [],
   "source": [
    "import cv2 as cv\n",
    "import numpy as np"
   ]
  },
  {
   "cell_type": "markdown",
   "id": "46afb1f3",
   "metadata": {},
   "source": [
    "# Reading Image  "
   ]
  },
  {
   "cell_type": "code",
   "execution_count": 4,
   "id": "38270a62",
   "metadata": {},
   "outputs": [
    {
     "data": {
      "text/plain": [
       "array([[[105,  62, 125],\n",
       "        [107,  64, 129],\n",
       "        [108,  65, 130],\n",
       "        ...,\n",
       "        [ 65,  38,  82],\n",
       "        [ 65,  38,  82],\n",
       "        [ 65,  38,  82]],\n",
       "\n",
       "       [[107,  64, 129],\n",
       "        [108,  65, 128],\n",
       "        [109,  66, 131],\n",
       "        ...,\n",
       "        [ 65,  37,  83],\n",
       "        [ 65,  38,  82],\n",
       "        [ 64,  37,  81]],\n",
       "\n",
       "       [[108,  65, 130],\n",
       "        [108,  64, 131],\n",
       "        [109,  66, 131],\n",
       "        ...,\n",
       "        [ 65,  37,  83],\n",
       "        [ 65,  37,  83],\n",
       "        [ 65,  37,  83]],\n",
       "\n",
       "       ...,\n",
       "\n",
       "       [[217, 210, 225],\n",
       "        [220, 213, 228],\n",
       "        [219, 214, 229],\n",
       "        ...,\n",
       "        [221, 215, 216],\n",
       "        [221, 216, 217],\n",
       "        [219, 214, 215]],\n",
       "\n",
       "       [[219, 209, 225],\n",
       "        [218, 211, 226],\n",
       "        [219, 212, 225],\n",
       "        ...,\n",
       "        [221, 216, 217],\n",
       "        [221, 216, 217],\n",
       "        [220, 215, 216]],\n",
       "\n",
       "       [[219, 209, 226],\n",
       "        [220, 210, 226],\n",
       "        [220, 213, 226],\n",
       "        ...,\n",
       "        [220, 215, 217],\n",
       "        [219, 214, 216],\n",
       "        [217, 212, 214]]], dtype=uint8)"
      ]
     },
     "execution_count": 4,
     "metadata": {},
     "output_type": "execute_result"
    }
   ],
   "source": [
    "img = cv.imread('raspberry.jpg')\n",
    "img"
   ]
  },
  {
   "cell_type": "markdown",
   "id": "7f8de295",
   "metadata": {},
   "source": [
    "# Converting"
   ]
  },
  {
   "cell_type": "code",
   "execution_count": 5,
   "id": "f08bfe44",
   "metadata": {},
   "outputs": [],
   "source": [
    "gray_image = cv.cvtColor(img , cv.COLOR_BGR2GRAY)\n"
   ]
  },
  {
   "cell_type": "markdown",
   "id": "3398b353",
   "metadata": {},
   "source": [
    "# Save File"
   ]
  },
  {
   "cell_type": "code",
   "execution_count": 6,
   "id": "551ac909",
   "metadata": {},
   "outputs": [
    {
     "data": {
      "text/plain": [
       "True"
      ]
     },
     "execution_count": 6,
     "metadata": {},
     "output_type": "execute_result"
    }
   ],
   "source": [
    "cv.imwrite('final.jpg' , gray_image)"
   ]
  }
 ],
 "metadata": {
  "kernelspec": {
   "display_name": "Python 3 (ipykernel)",
   "language": "python",
   "name": "python3"
  },
  "language_info": {
   "codemirror_mode": {
    "name": "ipython",
    "version": 3
   },
   "file_extension": ".py",
   "mimetype": "text/x-python",
   "name": "python",
   "nbconvert_exporter": "python",
   "pygments_lexer": "ipython3",
   "version": "3.10.7"
  }
 },
 "nbformat": 4,
 "nbformat_minor": 5
}
